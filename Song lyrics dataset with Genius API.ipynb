{
 "cells": [
  {
   "cell_type": "markdown",
   "metadata": {},
   "source": [
    "# Emotion detection in the song lyrics\n",
    "\n",
    "- Khatiwada Angelina\n",
    "- Data Science and Economics, UNIMI\n",
    "- Oct 2021\n",
    "\n",
    "### Part 2: Songs Dataset with Genius API\n"
   ]
  },
  {
   "cell_type": "code",
   "execution_count": 1,
   "metadata": {},
   "outputs": [],
   "source": [
    "#Importing libraries\n",
    "\n",
    "import pandas as pd\n",
    "import lyricsgenius as lg\n",
    "import json\n",
    "\n",
    "pd.set_option('display.max_colwidth', None)\n",
    "pd.set_option('display.max_rows', None)\n",
    "pd.set_option('display.width', None)"
   ]
  },
  {
   "cell_type": "code",
   "execution_count": 2,
   "metadata": {},
   "outputs": [],
   "source": [
    "#Creating lists of artists for different genres\n",
    "\n",
    "Electronic = ['Daft Punk','Depeche Mode', 'Calvin Harris',\n",
    "              'David Guetta', 'Avicii', 'The Chainsmokers', 'Alan Walker']\n",
    "\n",
    "Blues = ['Muddy Waters', 'Robert Johnson', 'B.B. King',\n",
    "         'Eric Clapton' ]\n",
    "\n",
    "Country = ['Johnny Cash', 'Dolly Parton', 'John Denver',\n",
    "           'Garth Brooks']\n",
    "\n",
    "Folk = ['Bob Dylan', 'Simon  Garfunkel', 'Woody Guthrie', 'Joan Baez',\n",
    "       'Sufjan Stevens', 'Passenger']\n",
    "\n",
    "HipHop_Rap = ['Eminem', 'JayZ', 'Nas', 'Kanye West',\n",
    "              'Cardi B', '50 Cent', 'Drake', 'Nicki Minaj',\n",
    "               'Snoop Dogg', 'Lil Nas X']\n",
    "\n",
    "Jazz = ['Duke Ellington', 'Louis Armstrong', 'Billie Holiday','Ella Fitzgerald', 'Miles Davis']\n",
    "\n",
    "Pop = ['Michael Jackson', 'Taylor Swift', 'Frank Sinatra',\n",
    "       'Ariana Grande', 'Lady Gaga', 'Ed Sheeran', 'Dua Lipa',\n",
    "       'Katy Perry', 'Justin Bieber', 'Billie Eilish', 'The Weeknd',\n",
    "      'Bruno Mars', 'Shawn Mendes', 'Elton John', 'One Direction', 'Maroon 5',\n",
    "      'Madonna', 'Britney Spears', 'Rihanna', 'Beyoncé', 'Justin Timberlake', 'Camila Cabello']\n",
    "\n",
    "RnB_Soul = ['Stevie Wonder', 'Sam Cooke', 'Otis Redding']  \n",
    "Reggae = ['Bob Marley', 'Peter Tosh', 'Jimmy Cliff', 'Steel Pulse']\n",
    "\n",
    "Classic_Rock = ['The Beatles', 'John Lennon', 'The Rolling Stones',\n",
    "               'Eagles', 'Buddy Holly', 'Billy Joel', 'Bon Jovi',\n",
    "               'Elvis Presley', 'Bruce Springsteen',\n",
    "               'U2']\n",
    "\n",
    "Hard_Rock = ['ACDC', 'Aerosmith', 'Queen', 'Led Zeppelin',\n",
    "            \"Guns n Roses\", 'Pink Floyd','Scorpions','The Who', 'KISS']\n",
    " \n",
    "Punk_Rock = ['Green Day', 'The Offspring', 'Ramones ', 'Blink 182',\n",
    "            'The Clash', 'NOFX', 'Bad Religion', 'Sex Pistols', 'Sublime', 'Deftones']\n",
    "\n",
    "Alternative_Rock_Indie = ['The Killers', 'Nirvana', 'Muse', 'Artic Monkeys',\n",
    "                         'Foster the People', 'Mumford  Sons', 'Lumineers',\n",
    "                         'Florence  The Machine', 'Red Hot Chili Peppers', \n",
    "                         'The Smiths', 'The Cure', 'Oasis', 'Linkin Park',\n",
    "                         'Coldplay', 'Imagine Dragons', 'Thirty Seconds to Mars',]\n",
    "\n",
    "Metal = ['Bullet for My Valentine', 'Iron Maiden', 'Black Sabbath', 'Metallica',\n",
    "         'Megadeth', 'Evanescence', 'Nightwish', 'Within Temptation', 'System of a Down', 'Slipknot']"
   ]
  },
  {
   "cell_type": "code",
   "execution_count": 3,
   "metadata": {},
   "outputs": [],
   "source": [
    "# Creating dictionary: mapping artists to genres\n",
    "singers = {'Pop': Pop,\n",
    "           'Hip-hop/Rap': HipHop_Rap ,\n",
    "           'Folk': Folk, \n",
    "           'Country': Country,\n",
    "           'R&B/Soul': RnB_Soul,\n",
    "           'Jazz': Jazz,\n",
    "           'Blues': Blues,\n",
    "           'Electronic/Dance': Electronic,\n",
    "           'Reggae': Reggae,\n",
    "           'Classic Rock': Classic_Rock,\n",
    "           'Hard Rock': Hard_Rock,\n",
    "           'Punk Rock': Punk_Rock,\n",
    "           'Alternative Rock/Indie': Alternative_Rock_Indie,\n",
    "           'Metal': Metal\n",
    "                     }"
   ]
  },
  {
   "cell_type": "code",
   "execution_count": 4,
   "metadata": {},
   "outputs": [
    {
     "name": "stdout",
     "output_type": "stream",
     "text": [
      "(120, 2)\n",
      "120\n"
     ]
    },
    {
     "data": {
      "text/html": [
       "<div>\n",
       "<style scoped>\n",
       "    .dataframe tbody tr th:only-of-type {\n",
       "        vertical-align: middle;\n",
       "    }\n",
       "\n",
       "    .dataframe tbody tr th {\n",
       "        vertical-align: top;\n",
       "    }\n",
       "\n",
       "    .dataframe thead th {\n",
       "        text-align: right;\n",
       "    }\n",
       "</style>\n",
       "<table border=\"1\" class=\"dataframe\">\n",
       "  <thead>\n",
       "    <tr style=\"text-align: right;\">\n",
       "      <th></th>\n",
       "      <th>artists_initial</th>\n",
       "      <th>genre</th>\n",
       "    </tr>\n",
       "  </thead>\n",
       "  <tbody>\n",
       "    <tr>\n",
       "      <th>0</th>\n",
       "      <td>Michael Jackson</td>\n",
       "      <td>Pop</td>\n",
       "    </tr>\n",
       "    <tr>\n",
       "      <th>1</th>\n",
       "      <td>Taylor Swift</td>\n",
       "      <td>Pop</td>\n",
       "    </tr>\n",
       "    <tr>\n",
       "      <th>2</th>\n",
       "      <td>Frank Sinatra</td>\n",
       "      <td>Pop</td>\n",
       "    </tr>\n",
       "    <tr>\n",
       "      <th>3</th>\n",
       "      <td>Ariana Grande</td>\n",
       "      <td>Pop</td>\n",
       "    </tr>\n",
       "    <tr>\n",
       "      <th>4</th>\n",
       "      <td>Lady Gaga</td>\n",
       "      <td>Pop</td>\n",
       "    </tr>\n",
       "  </tbody>\n",
       "</table>\n",
       "</div>"
      ],
      "text/plain": [
       "   artists_initial genre\n",
       "0  Michael Jackson   Pop\n",
       "1     Taylor Swift   Pop\n",
       "2    Frank Sinatra   Pop\n",
       "3    Ariana Grande   Pop\n",
       "4        Lady Gaga   Pop"
      ]
     },
     "execution_count": 4,
     "metadata": {},
     "output_type": "execute_result"
    }
   ],
   "source": [
    "# Dataframe of artists and genres\n",
    "artists = []\n",
    "genres = []\n",
    "for genre, list_singers in singers.items():\n",
    "    for singer in list_singers:\n",
    "        artists.append(singer)\n",
    "        genres.append(genre)\n",
    "\n",
    "singer_genre = pd.DataFrame({'artists_initial': artists,\n",
    "                             'genre': genres\n",
    "    })\n",
    "\n",
    "print(singer_genre.shape)\n",
    "print(len(artists))\n",
    "singer_genre.head()"
   ]
  },
  {
   "cell_type": "markdown",
   "metadata": {},
   "source": [
    "### Genius API: song lyrics collection"
   ]
  },
  {
   "cell_type": "code",
   "execution_count": 13,
   "metadata": {},
   "outputs": [],
   "source": [
    "# connecting to Genius API\n",
    "token_genius = pd.read_csv('token_Genius.txt', header = None)\n",
    "TOKEN = token_genius[0][0]\n",
    "\n",
    "genius = lg.Genius(TOKEN,\n",
    "                   skip_non_songs=True,\n",
    "                   excluded_terms=[\"(Remix)\",\"(Live)\"],\n",
    "                   remove_section_headers=True)"
   ]
  },
  {
   "cell_type": "code",
   "execution_count": 14,
   "metadata": {},
   "outputs": [],
   "source": [
    "# function to download song lyrics and metadata in json files (k songs per each artist)\n",
    "def download_lyrics(names_of_singers, k):\n",
    "    for name in names_of_singers:\n",
    "        artist = genius.search_artist(name, max_songs=k, sort='popularity')\n",
    "        name_json_file = name + '.json'\n",
    "        artist.save_lyrics(name_json_file)"
   ]
  },
  {
   "cell_type": "code",
   "execution_count": 15,
   "metadata": {},
   "outputs": [],
   "source": [
    "# function to get the lyrics, title, year, album and youtube link from json file\n",
    "def get_lyrics(names_of_singers):\n",
    "    artist_names = []\n",
    "    song_titles = []\n",
    "    song_lyrics = []\n",
    "    album_names = []\n",
    "    release_dates = []\n",
    "    youtube_links = []\n",
    "    names_initial = []\n",
    "    \n",
    "    for name in names_of_singers:\n",
    "        name_json_file = name + '.json'\n",
    "        \n",
    "        with open(name_json_file) as f:\n",
    "            data = json.load(f)\n",
    "        \n",
    "        s = [song['lyrics'] for song in  data['songs']]\n",
    "        n = [song['artist'] for song in data['songs']]\n",
    "        t = [song['title'] for song in data['songs']]\n",
    "        r = [song['release_date_for_display'] for song in data['songs']]\n",
    "        a = [song['album']['name'] if song['album'] is not None else \"No album found\" for song in data['songs']]\n",
    "        y = []\n",
    "        an = []\n",
    "        for song in data['songs']:\n",
    "            an.append(name)\n",
    "            links = song['media']\n",
    "            youtube_found=False\n",
    "            if links:\n",
    "                for media in links:\n",
    "                    if media['provider'] == 'youtube':\n",
    "                        y.append(media['url'])\n",
    "                        youtube_found=True\n",
    "            if not youtube_found:\n",
    "                y.append(\"YouTube link not found\")\n",
    "\n",
    "        artist_names.append(n)\n",
    "        song_titles.append(t)\n",
    "        song_lyrics.append(s)\n",
    "        album_names.append(a)\n",
    "        release_dates.append(r)\n",
    "        youtube_links.append(y)\n",
    "        names_initial.append(an)\n",
    "            \n",
    "    return artist_names, song_titles, song_lyrics, album_names, release_dates, youtube_links, names_initial"
   ]
  },
  {
   "cell_type": "code",
   "execution_count": null,
   "metadata": {},
   "outputs": [],
   "source": [
    "download_lyrics(artists, 5)"
   ]
  },
  {
   "cell_type": "code",
   "execution_count": 16,
   "metadata": {},
   "outputs": [],
   "source": [
    "artist_names, song_titles, song_lyrics, album_names, release_dates, youtube_links, names_initial = get_lyrics(artists)"
   ]
  },
  {
   "cell_type": "code",
   "execution_count": 17,
   "metadata": {},
   "outputs": [
    {
     "name": "stdout",
     "output_type": "stream",
     "text": [
      "(600, 7)\n"
     ]
    }
   ],
   "source": [
    "song_lyrics  = pd.DataFrame({'artist_name': sum(artist_names, []),\n",
    "                            'song_title': sum(song_titles, []),\n",
    "                             'album_name': sum(album_names, []),\n",
    "                             'release_date': sum(release_dates, []),\n",
    "                             'youtube_link': sum(youtube_links, []),\n",
    "                             'song_lyrics': sum(song_lyrics, []),\n",
    "                             'artists_initial': sum(names_initial, [])})\n",
    "\n",
    "print(song_lyrics.shape)"
   ]
  },
  {
   "cell_type": "code",
   "execution_count": 18,
   "metadata": {
    "scrolled": true
   },
   "outputs": [
    {
     "data": {
      "text/html": [
       "<div>\n",
       "<style scoped>\n",
       "    .dataframe tbody tr th:only-of-type {\n",
       "        vertical-align: middle;\n",
       "    }\n",
       "\n",
       "    .dataframe tbody tr th {\n",
       "        vertical-align: top;\n",
       "    }\n",
       "\n",
       "    .dataframe thead th {\n",
       "        text-align: right;\n",
       "    }\n",
       "</style>\n",
       "<table border=\"1\" class=\"dataframe\">\n",
       "  <thead>\n",
       "    <tr style=\"text-align: right;\">\n",
       "      <th></th>\n",
       "      <th>artist_name</th>\n",
       "      <th>song_title</th>\n",
       "      <th>album_name</th>\n",
       "      <th>release_date</th>\n",
       "      <th>youtube_link</th>\n",
       "      <th>song_lyrics</th>\n",
       "      <th>artists_initial</th>\n",
       "      <th>genre</th>\n",
       "    </tr>\n",
       "  </thead>\n",
       "  <tbody>\n",
       "    <tr>\n",
       "      <th>0</th>\n",
       "      <td>Michael Jackson</td>\n",
       "      <td>Billie Jean</td>\n",
       "      <td>Thriller</td>\n",
       "      <td>November 30, 1982</td>\n",
       "      <td>http://www.youtube.com/watch?v=Zi_XLOBDo_Y</td>\n",
       "      <td>She was more like a beauty queen from a movie scene\\nI said, \"Don't mind, but what do you mean, I am the one\\nWho will dance on the floor in the round?\"\\nShe said I am the one\\nWho will dance on the floor in the round\\nShe told me her name was Billie Jean\\nAs she caused a scene\\nThen every head turned with eyes that dreamed of bein' the one\\nWho will dance on the floor in the round\\n\\nPeople always told me, \"Be careful of what you do\\nDon't go around breakin' young girls' hearts\" (Hee-hee)\\nAnd mother always told me, \"Be careful of who you love\\nAnd be careful of what you do (Oh-oh)\\n'Cause the lie becomes the truth\" (Oh-oh)\\nHey-ay\\n\\nBillie Jean is not my lover\\nShe's just a girl who claims that I am the one (Oh, baby)\\nBut the kid is not my son, hoo!\\nShe says I am the one (Oh, baby)\\nBut the kid is not my son (Hee-hee-hee, no-no-no, hee-hee-hee)\\nHoo!\\n\\nFor forty days and for forty nights, the law was on her side\\nBut who can stand when she's in demand?\\nHer schemes and plans\\n'Cause we danced on the floor in the round, hee!\\nSo take my strong advice, just remember to always think twice\\n(Don't think twice) Do think twice! (A-hoo!)\\nShe told my baby we'd danced 'til three, then she looked at me\\nThen showed a photo of a baby cryin', his eyes were like mine (Oh, no)\\n'Cause we danced on the floor in the round, baby\\n(Ooh, hee-hee-hee)\\n\\nPeople always told me, \"Be careful of what you do\\nAnd don't go around breakin' young girls' hearts\"\\n(Don't break no hearts!) (Hee-hee)\\nBut she came and stood right by me\\nJust the smell of sweet perfume (Ha-oh)\\nThis happened much too soon (Ha-oh, ha-ooh)\\nShe called me to her room (Ha-oh, hoo!)\\nHey-ay\\n\\nBillie Jean is not my lover (Hoo!)\\nShe's just a girl who claims that I am the one\\nBut the kid is not my son\\nNo-no-no, no-no-no-no-no-no (Hoo!)\\nBillie Jean is not my lover\\nShe's just a girl who claims that I am the one (Oh baby)\\nBut the kid is not my son (Oh, no, no)\\nShe says I am the one (Oh baby)\\nBut the kid is not my son (No, hee-hee!)\\n\\nAh, hee-hee-hee!\\nHee! Hoo!\\n\\nShe says I am the one, but the kid is not my son\\nNo-no-no, hoo! (Ouw!)\\nBillie Jean is not my lover\\nShe's just a girl who claims that I am the one\\n(You know what you did to me, baby)\\nBut the kid is not my son\\nNo-no-no, no-no-no-no (No-no-no, no-no-no)\\nShe says I am the one\\nBut the kid is not my son (No-no-no-no)\\n\\nShe says I am the one\\nYou know what you did\\nShe says he is my son\\nBreakin' my heart, babe\\nShe says I am the one\\nBillie Jean is not my lover\\nBillie Jean is not my lover\\nBillie Jean is not my lover (She is just a girl)\\nBillie Jean is not my lover (She is just a girl)\\n(Don't call me Billie Jean)\\nBillie Jean is not my lover (She is just a girl)\\n(Hoo! She's not at the scene)\\nBillie Jean is not (Hee! Aaow! Ooh!)\\nBillie Jean is</td>\n",
       "      <td>Michael Jackson</td>\n",
       "      <td>Pop</td>\n",
       "    </tr>\n",
       "  </tbody>\n",
       "</table>\n",
       "</div>"
      ],
      "text/plain": [
       "       artist_name   song_title album_name       release_date  \\\n",
       "0  Michael Jackson  Billie Jean   Thriller  November 30, 1982   \n",
       "\n",
       "                                 youtube_link  \\\n",
       "0  http://www.youtube.com/watch?v=Zi_XLOBDo_Y   \n",
       "\n",
       "                                                                                                                                                                                                                                                                                                                                                                                                                                                                                                                                                                                                                                                                                                                                                                                                                                                                                                                                                                                                                                                                                                                                                                                                                                                                                                                                                                                                                                                                                                                                                                                                                                                                                                                                                                                                                                                                                                                                                                                                                                                                                                                                                                                                                                                                                                                                                                                                                                                                                                                                                                                                                                                                                                                                                                                                                                                                                                                          song_lyrics  \\\n",
       "0  She was more like a beauty queen from a movie scene\\nI said, \"Don't mind, but what do you mean, I am the one\\nWho will dance on the floor in the round?\"\\nShe said I am the one\\nWho will dance on the floor in the round\\nShe told me her name was Billie Jean\\nAs she caused a scene\\nThen every head turned with eyes that dreamed of bein' the one\\nWho will dance on the floor in the round\\n\\nPeople always told me, \"Be careful of what you do\\nDon't go around breakin' young girls' hearts\" (Hee-hee)\\nAnd mother always told me, \"Be careful of who you love\\nAnd be careful of what you do (Oh-oh)\\n'Cause the lie becomes the truth\" (Oh-oh)\\nHey-ay\\n\\nBillie Jean is not my lover\\nShe's just a girl who claims that I am the one (Oh, baby)\\nBut the kid is not my son, hoo!\\nShe says I am the one (Oh, baby)\\nBut the kid is not my son (Hee-hee-hee, no-no-no, hee-hee-hee)\\nHoo!\\n\\nFor forty days and for forty nights, the law was on her side\\nBut who can stand when she's in demand?\\nHer schemes and plans\\n'Cause we danced on the floor in the round, hee!\\nSo take my strong advice, just remember to always think twice\\n(Don't think twice) Do think twice! (A-hoo!)\\nShe told my baby we'd danced 'til three, then she looked at me\\nThen showed a photo of a baby cryin', his eyes were like mine (Oh, no)\\n'Cause we danced on the floor in the round, baby\\n(Ooh, hee-hee-hee)\\n\\nPeople always told me, \"Be careful of what you do\\nAnd don't go around breakin' young girls' hearts\"\\n(Don't break no hearts!) (Hee-hee)\\nBut she came and stood right by me\\nJust the smell of sweet perfume (Ha-oh)\\nThis happened much too soon (Ha-oh, ha-ooh)\\nShe called me to her room (Ha-oh, hoo!)\\nHey-ay\\n\\nBillie Jean is not my lover (Hoo!)\\nShe's just a girl who claims that I am the one\\nBut the kid is not my son\\nNo-no-no, no-no-no-no-no-no (Hoo!)\\nBillie Jean is not my lover\\nShe's just a girl who claims that I am the one (Oh baby)\\nBut the kid is not my son (Oh, no, no)\\nShe says I am the one (Oh baby)\\nBut the kid is not my son (No, hee-hee!)\\n\\nAh, hee-hee-hee!\\nHee! Hoo!\\n\\nShe says I am the one, but the kid is not my son\\nNo-no-no, hoo! (Ouw!)\\nBillie Jean is not my lover\\nShe's just a girl who claims that I am the one\\n(You know what you did to me, baby)\\nBut the kid is not my son\\nNo-no-no, no-no-no-no (No-no-no, no-no-no)\\nShe says I am the one\\nBut the kid is not my son (No-no-no-no)\\n\\nShe says I am the one\\nYou know what you did\\nShe says he is my son\\nBreakin' my heart, babe\\nShe says I am the one\\nBillie Jean is not my lover\\nBillie Jean is not my lover\\nBillie Jean is not my lover (She is just a girl)\\nBillie Jean is not my lover (She is just a girl)\\n(Don't call me Billie Jean)\\nBillie Jean is not my lover (She is just a girl)\\n(Hoo! She's not at the scene)\\nBillie Jean is not (Hee! Aaow! Ooh!)\\nBillie Jean is   \n",
       "\n",
       "   artists_initial genre  \n",
       "0  Michael Jackson   Pop  "
      ]
     },
     "execution_count": 18,
     "metadata": {},
     "output_type": "execute_result"
    }
   ],
   "source": [
    "# final song lyrics dataset\n",
    "song_lyrics_final = pd.merge(song_lyrics, singer_genre, how=\"inner\", on=[\"artists_initial\"])\n",
    "song_lyrics_final.head(1)"
   ]
  },
  {
   "cell_type": "code",
   "execution_count": 19,
   "metadata": {},
   "outputs": [
    {
     "data": {
      "text/plain": [
       "Pop                       110\n",
       "Alternative Rock/Indie     80\n",
       "Hip-hop/Rap                50\n",
       "Classic Rock               50\n",
       "Punk Rock                  50\n",
       "Metal                      50\n",
       "Hard Rock                  45\n",
       "Electronic/Dance           35\n",
       "Folk                       30\n",
       "Jazz                       25\n",
       "Country                    20\n",
       "Blues                      20\n",
       "Reggae                     20\n",
       "R&B/Soul                   15\n",
       "Name: genre, dtype: int64"
      ]
     },
     "execution_count": 19,
     "metadata": {},
     "output_type": "execute_result"
    }
   ],
   "source": [
    "song_lyrics_final['genre'].value_counts()"
   ]
  },
  {
   "cell_type": "code",
   "execution_count": 21,
   "metadata": {},
   "outputs": [],
   "source": [
    "song_lyrics_final.to_csv('song_lyrics_unlabeled.csv')"
   ]
  }
 ],
 "metadata": {
  "kernelspec": {
   "display_name": "Python 3",
   "language": "python",
   "name": "python3"
  },
  "language_info": {
   "codemirror_mode": {
    "name": "ipython",
    "version": 3
   },
   "file_extension": ".py",
   "mimetype": "text/x-python",
   "name": "python",
   "nbconvert_exporter": "python",
   "pygments_lexer": "ipython3",
   "version": "3.8.5"
  }
 },
 "nbformat": 4,
 "nbformat_minor": 4
}
