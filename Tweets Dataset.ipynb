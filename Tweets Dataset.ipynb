{
 "cells": [
  {
   "cell_type": "markdown",
   "metadata": {},
   "source": [
    "# Emotion detection in the song lyrics\n",
    "\n",
    "- Khatiwada Angelina\n",
    "- Data Science and Economics student\n",
    "- Oct 2021\n",
    "\n",
    "### Part 1: WASSA-2017 Shared Task on Emotion Intensity (EmoInt): training, development and test sets are  combined into one dataset for model training and evaluation"
   ]
  },
  {
   "cell_type": "code",
   "execution_count": 1,
   "metadata": {},
   "outputs": [],
   "source": [
    "import pandas as pd\n",
    "\n",
    "pd.set_option('display.max_colwidth', None)\n",
    "pd.set_option('display.max_rows', None)\n",
    "pd.set_option('display.width', None)"
   ]
  },
  {
   "cell_type": "code",
   "execution_count": 9,
   "metadata": {},
   "outputs": [
    {
     "name": "stdout",
     "output_type": "stream",
     "text": [
      "(3613, 4)\n"
     ]
    }
   ],
   "source": [
    "# training set \n",
    "anger = pd.read_csv('training/anger.txt',sep=\"\t\" , header=None)\n",
    "fear = pd.read_csv('training/fear.txt', sep=\"\t\", header=None)\n",
    "joy = pd.read_csv('training/joy.txt', sep=\"\t\", header=None)\n",
    "sadness = pd.read_csv('training/sadness.txt', sep=\"\t\", header=None)\n",
    "train = pd.concat([anger, fear, joy, sadness])\n",
    "print(train.shape)"
   ]
  },
  {
   "cell_type": "code",
   "execution_count": 10,
   "metadata": {},
   "outputs": [],
   "source": [
    "# development set\n",
    "anger = pd.read_csv('development/anger.txt', sep=\"\t\", header=None)\n",
    "fear = pd.read_csv('development/fear.txt', sep=\"\t\", header=None)\n",
    "joy = pd.read_csv('development/joy.txt', sep=\"\t\", header=None)\n",
    "sadness = pd.read_csv('development/sadness.txt', sep=\"\t\", header=None)\n",
    "dev = pd.concat([anger, fear, joy, sadness])"
   ]
  },
  {
   "cell_type": "code",
   "execution_count": 12,
   "metadata": {},
   "outputs": [],
   "source": [
    "# test set\n",
    "anger = pd.read_csv('test/anger.txt', sep=\"\t\", header=None)\n",
    "fear = pd.read_csv('test/fear.txt', sep=\"\t\", header=None)\n",
    "joy = pd.read_csv('test/joy.txt', sep=\"\t\", header=None)\n",
    "sadness = pd.read_csv('test/sadness.txt', sep=\"\t\", header=None)\n",
    "test = pd.concat([anger, fear, joy, sadness])"
   ]
  },
  {
   "cell_type": "code",
   "execution_count": 13,
   "metadata": {},
   "outputs": [
    {
     "name": "stdout",
     "output_type": "stream",
     "text": [
      "(7102, 4)\n"
     ]
    },
    {
     "data": {
      "text/html": [
       "<div>\n",
       "<style scoped>\n",
       "    .dataframe tbody tr th:only-of-type {\n",
       "        vertical-align: middle;\n",
       "    }\n",
       "\n",
       "    .dataframe tbody tr th {\n",
       "        vertical-align: top;\n",
       "    }\n",
       "\n",
       "    .dataframe thead th {\n",
       "        text-align: right;\n",
       "    }\n",
       "</style>\n",
       "<table border=\"1\" class=\"dataframe\">\n",
       "  <thead>\n",
       "    <tr style=\"text-align: right;\">\n",
       "      <th></th>\n",
       "      <th>code</th>\n",
       "      <th>text</th>\n",
       "      <th>label</th>\n",
       "      <th>weight</th>\n",
       "    </tr>\n",
       "  </thead>\n",
       "  <tbody>\n",
       "    <tr>\n",
       "      <th>0</th>\n",
       "      <td>10000</td>\n",
       "      <td>How the fu*k! Who the heck! moved my fridge!... should I knock the landlord door. #angry #mad ##</td>\n",
       "      <td>anger</td>\n",
       "      <td>0.938</td>\n",
       "    </tr>\n",
       "    <tr>\n",
       "      <th>1</th>\n",
       "      <td>10001</td>\n",
       "      <td>So my Indian Uber driver just called someone the N word. If I wasn't in a moving vehicle I'd have jumped out #disgusted</td>\n",
       "      <td>anger</td>\n",
       "      <td>0.896</td>\n",
       "    </tr>\n",
       "    <tr>\n",
       "      <th>2</th>\n",
       "      <td>10002</td>\n",
       "      <td>@DPD_UK I asked for my parcel to be delivered to a pick up store not my address #fuming #poorcustomerservice</td>\n",
       "      <td>anger</td>\n",
       "      <td>0.896</td>\n",
       "    </tr>\n",
       "    <tr>\n",
       "      <th>3</th>\n",
       "      <td>10003</td>\n",
       "      <td>so ef whichever butt wipe pulled the fire alarm in davis bc I was sound asleep #pissed #angry #upset #tired #sad #tired #hangry ######</td>\n",
       "      <td>anger</td>\n",
       "      <td>0.896</td>\n",
       "    </tr>\n",
       "    <tr>\n",
       "      <th>4</th>\n",
       "      <td>10004</td>\n",
       "      <td>Don't join @BTCare they put the phone down on you, talk over you and are rude. Taking money out of my acc willynilly! #fuming</td>\n",
       "      <td>anger</td>\n",
       "      <td>0.896</td>\n",
       "    </tr>\n",
       "  </tbody>\n",
       "</table>\n",
       "</div>"
      ],
      "text/plain": [
       "    code  \\\n",
       "0  10000   \n",
       "1  10001   \n",
       "2  10002   \n",
       "3  10003   \n",
       "4  10004   \n",
       "\n",
       "                                                                                                                                     text  \\\n",
       "0                                        How the fu*k! Who the heck! moved my fridge!... should I knock the landlord door. #angry #mad ##   \n",
       "1                So my Indian Uber driver just called someone the N word. If I wasn't in a moving vehicle I'd have jumped out #disgusted    \n",
       "2                            @DPD_UK I asked for my parcel to be delivered to a pick up store not my address #fuming #poorcustomerservice   \n",
       "3  so ef whichever butt wipe pulled the fire alarm in davis bc I was sound asleep #pissed #angry #upset #tired #sad #tired #hangry ######   \n",
       "4           Don't join @BTCare they put the phone down on you, talk over you and are rude. Taking money out of my acc willynilly! #fuming   \n",
       "\n",
       "   label weight  \n",
       "0  anger  0.938  \n",
       "1  anger  0.896  \n",
       "2  anger  0.896  \n",
       "3  anger  0.896  \n",
       "4  anger  0.896  "
      ]
     },
     "execution_count": 13,
     "metadata": {},
     "output_type": "execute_result"
    }
   ],
   "source": [
    "#combining train, dev, test into one training set\n",
    "train = pd.concat([train, dev, test])\n",
    "print(train.shape)\n",
    "train.columns =['code', 'text', 'label', 'weight']\n",
    "train.head()"
   ]
  },
  {
   "cell_type": "code",
   "execution_count": 15,
   "metadata": {},
   "outputs": [],
   "source": [
    "train.to_csv('tweets_dataset.csv')"
   ]
  }
 ],
 "metadata": {
  "kernelspec": {
   "display_name": "Python 3",
   "language": "python",
   "name": "python3"
  },
  "language_info": {
   "codemirror_mode": {
    "name": "ipython",
    "version": 3
   },
   "file_extension": ".py",
   "mimetype": "text/x-python",
   "name": "python",
   "nbconvert_exporter": "python",
   "pygments_lexer": "ipython3",
   "version": "3.8.5"
  }
 },
 "nbformat": 4,
 "nbformat_minor": 4
}
